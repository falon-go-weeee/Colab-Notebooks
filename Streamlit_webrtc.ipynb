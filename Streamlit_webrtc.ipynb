{
  "nbformat": 4,
  "nbformat_minor": 0,
  "metadata": {
    "colab": {
      "private_outputs": true,
      "provenance": [],
      "authorship_tag": "ABX9TyMY+NjssSmTcVVEPPqyoZ8V",
      "include_colab_link": true
    },
    "kernelspec": {
      "name": "python3",
      "display_name": "Python 3"
    },
    "language_info": {
      "name": "python"
    }
  },
  "cells": [
    {
      "cell_type": "markdown",
      "metadata": {
        "id": "view-in-github",
        "colab_type": "text"
      },
      "source": [
        "<a href=\"https://colab.research.google.com/github/falon-go-weeee/Colab-Notebooks/blob/main/Streamlit_webrtc.ipynb\" target=\"_parent\"><img src=\"https://colab.research.google.com/assets/colab-badge.svg\" alt=\"Open In Colab\"/></a>"
      ]
    },
    {
      "cell_type": "markdown",
      "metadata": {
        "id": "q1qbeu7L34hD"
      },
      "source": [
        "## Instalasi Library streamlit-Webrtc"
      ]
    },
    {
      "cell_type": "code",
      "metadata": {
        "id": "IljgE6IeODmT"
      },
      "source": [
        "!pip install -U streamlit-webrtc opencv-python pydub"
      ],
      "execution_count": null,
      "outputs": []
    },
    {
      "cell_type": "code",
      "metadata": {
        "id": "7iUz6FVOOuvR"
      },
      "source": [
        "!wget -c https://raw.githubusercontent.com/whitphx/streamlit-webrtc-example/main/app.py"
      ],
      "execution_count": null,
      "outputs": []
    },
    {
      "cell_type": "code",
      "source": [
        "!git clone https://github.com/whitphx/streamlit-webrtc-example.git"
      ],
      "metadata": {
        "id": "11CJFbw6c7zD"
      },
      "execution_count": null,
      "outputs": []
    },
    {
      "cell_type": "code",
      "metadata": {
        "id": "IJfFjDPMUch2"
      },
      "source": [
        "%cd /content/streamlit-webrtc-example\n",
        "!nohup streamlit run app.py > streamlit.log 2>&1 & echo $! > streamlit.pid"
      ],
      "execution_count": null,
      "outputs": []
    },
    {
      "cell_type": "code",
      "source": [
        "from subprocess import getoutput\n",
        "from IPython.display import clear_output\n",
        "import os\n",
        "import time\n",
        "\n",
        "Tunnel_type = \"ngrok\" #@param [\"ngrok\", \"bore\", \"cloudflare\"]\n",
        "binding_port = \"8501\" #@param {type:\"string\"}\n",
        "port = \"34525\" #@param {type:\"string\"}\n",
        "\n",
        "def install_ngrok():\n",
        "  if not os.path.exists('/usr/local/lib/python3.8/dist-packages/pyngrok'):\n",
        "    !pip install pyngrok\n",
        "    clear_output()\n",
        "\n",
        "def install_bore():\n",
        "  if not os.path.exists('/usr/bin/bore'):\n",
        "    !wget https://github.com/ekzhang/bore/releases/download/v0.4.1/bore-v0.4.1-i686-unknown-linux-musl.tar.gz\n",
        "    !tar -xf bore-v0.4.1-i686-unknown-linux-musl.tar.gz\n",
        "    !rm -f bore-v0.4.1-i686-unknown-linux-musl.tar.gz\n",
        "    !cp bore /usr/bin/bore\n",
        "    !rm -rf bore\n",
        "    clear_output()\n",
        "\n",
        "def install_cloudflare():\n",
        "  if not os.path.exists('/usr/bin/cloudflared'):\n",
        "    !wget -q https://github.com/cloudflare/cloudflared/releases/latest/download/cloudflared-linux-amd64.deb && dpkg -i cloudflared-linux-amd64.deb\n",
        "    !rm -f cloudflared-linux-amd64.deb\n",
        "    clear_output()\n",
        "\n",
        "if Tunnel_type == \"bore\":\n",
        "  install_bore()\n",
        "  use_ip = \"\"\n",
        "  if port:\n",
        "    # !curl ifconfig.me > ip.txt\n",
        "    # clear_output()\n",
        "    # ip = getoutput('cat /content/ip.txt')\n",
        "    # ip = f\"-l {ip}\"\n",
        "    !nohup bore local $binding_port --to bore.pub -p $port > /content/tunnel_srv.txt 2>&1 &\n",
        "  else:\n",
        "    !nohup bore local $binding_port --to bore.pub > /content/tunnel_srv.txt 2>&1 &\n",
        "  time.sleep(3)\n",
        "  !grep -o 'bore.pub:[^ ]*' /content/tunnel_srv.txt >/content/tunnel_srvr.txt\n",
        "  time.sleep(3)\n",
        "  tunnel_srv= getoutput('cat /content/tunnel_srvr.txt')\n",
        "  if tunnel_srv == '':\n",
        "    print('port not available choose another port')\n",
        "  else:\n",
        "    print('http://'+tunnel_srv)\n",
        "  !rm /content/tunnel_srv.txt\n",
        "  !rm /content/tunnel_srvr.txt\n",
        "\n",
        "elif Tunnel_type == \"ngrok\":\n",
        "  install_ngrok()\n",
        "  from pyngrok import ngrok\n",
        "  # Terminate ngrok port\n",
        "  ngrok.kill()\n",
        "  # Set authentication (optional)\n",
        "  # Get your authentication token via https://dashboard.ngrok.com/auth\n",
        "  NGROK_AUTH_TOKEN = \"2H79LWzHBonanC1xWxoGXW6fvtY_5rD7uShKgACuSLvUwMvJA\"\n",
        "  ngrok.set_auth_token(NGROK_AUTH_TOKEN)\n",
        "  public_url = ngrok.connect(binding_port)\n",
        "  print(public_url)\n",
        "\n",
        "elif Tunnel_type == \"cloudflare\":\n",
        "  install_cloudflare()\n",
        "  !pkill cloudflared\n",
        "  time.sleep(4)\n",
        "  # Tunnel_link = \"& cloudflared tunnel --url http://localhost:7860\"\n",
        "  !nohup cloudflared tunnel --url http://localhost:$binding_port > /content/srv.txt 2>&1 &\n",
        "  time.sleep(4)\n",
        "  !grep -o 'https[^[:space:]]*\\.trycloudflare.com' /content/srv.txt >/content/srvr.txt\n",
        "  srv= getoutput('cat /content/srvr.txt')\n",
        "  print(srv)\n",
        "  time.sleep(4)\n",
        "  !rm /content/srv.txt /content/srvr.txt"
      ],
      "metadata": {
        "cellView": "form",
        "id": "Tp57w7f6crM5"
      },
      "execution_count": null,
      "outputs": []
    },
    {
      "cell_type": "code",
      "source": [
        "#@markdown ## kill process\n",
        "\n",
        "import os\n",
        "import signal\n",
        "import psutil\n",
        "\n",
        "process_name = \"ngrok\" #@param {type:\"string\"}\n",
        "\n",
        "for proc in psutil.process_iter(['pid', 'name']):\n",
        "  if proc.info['name'] == process_name:\n",
        "      os.kill(proc.pid, signal.SIGTERM)\n",
        "!ps -aux | grep $process_name"
      ],
      "metadata": {
        "cellView": "form",
        "id": "YiBfEPiWMayx"
      },
      "execution_count": null,
      "outputs": []
    },
    {
      "cell_type": "code",
      "metadata": {
        "id": "6hu4r-sKO89K"
      },
      "source": [
        "%%shell\n",
        "pgrep streamlit\n",
        "ps -eaf | grep streamlit\n",
        "#ps -p \"$(cat streamlit.pid)\""
      ],
      "execution_count": null,
      "outputs": []
    },
    {
      "cell_type": "code",
      "metadata": {
        "id": "m5H30ubJP2bb"
      },
      "source": [
        "%%shell\n",
        "kill 1882"
      ],
      "execution_count": null,
      "outputs": []
    },
    {
      "cell_type": "code",
      "source": [
        "!sudo pip3 install twilio --upgrade"
      ],
      "metadata": {
        "id": "9-XVWu1geFc4"
      },
      "execution_count": null,
      "outputs": []
    },
    {
      "cell_type": "code",
      "source": [
        "!which -a twilio"
      ],
      "metadata": {
        "id": "18JUe9BAYA9x"
      },
      "execution_count": null,
      "outputs": []
    }
  ]
}