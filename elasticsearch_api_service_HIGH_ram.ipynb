{
  "nbformat": 4,
  "nbformat_minor": 0,
  "metadata": {
    "colab": {
      "provenance": [],
      "machine_shape": "hm",
      "collapsed_sections": [
        "yZmI7l_GykcW",
        "5KYtpRgf-jP6",
        "mteMbcfjsVo1",
        "nHRmW_3nJTGG",
        "9uZLDa8wMREG"
      ],
      "private_outputs": true,
      "include_colab_link": true
    },
    "kernelspec": {
      "name": "python3",
      "display_name": "Python 3"
    },
    "gpuClass": "standard"
  },
  "cells": [
    {
      "cell_type": "markdown",
      "metadata": {
        "id": "view-in-github",
        "colab_type": "text"
      },
      "source": [
        "<a href=\"https://colab.research.google.com/github/falon-go-weeee/Colab-Notebooks/blob/main/elasticsearch_api_service_HIGH_ram.ipynb\" target=\"_parent\"><img src=\"https://colab.research.google.com/assets/colab-badge.svg\" alt=\"Open In Colab\"/></a>"
      ]
    },
    {
      "cell_type": "markdown",
      "metadata": {
        "id": "yZmI7l_GykcW"
      },
      "source": [
        "## Download and setup the Elasticsearch instance\n"
      ]
    },
    {
      "cell_type": "code",
      "source": [
        "import time\n",
        "import os"
      ],
      "metadata": {
        "id": "IBVK4ewYcQ7_"
      },
      "execution_count": null,
      "outputs": []
    },
    {
      "cell_type": "markdown",
      "metadata": {
        "id": "vAzfu_WiEs4F"
      },
      "source": [
        "Run the instance as a daemon process"
      ]
    },
    {
      "cell_type": "code",
      "source": [
        "!mkdir -p /content/ES_data/data"
      ],
      "metadata": {
        "id": "6mGXguhJ83v7"
      },
      "execution_count": null,
      "outputs": []
    },
    {
      "cell_type": "code",
      "source": [
        "!sudo chown -R daemon:daemon /content/ES_data/data"
      ],
      "metadata": {
        "id": "t8NlE2DX9CLT"
      },
      "execution_count": null,
      "outputs": []
    },
    {
      "cell_type": "code",
      "source": [
        "%%bash\n",
        "\n",
        "wget -c https://artifacts.elastic.co/downloads/elasticsearch/elasticsearch-8.7.0-linux-x86_64.tar.gz\n",
        "wget -c https://artifacts.elastic.co/downloads/elasticsearch/elasticsearch-8.7.0-linux-x86_64.tar.gz.sha512\n",
        "tar -xzf elasticsearch-8.7.0-linux-x86_64.tar.gz\n",
        "sudo chown -R daemon:daemon elasticsearch-8.7.0/\n",
        "umount /sys/fs/cgroup\n",
        "apt install cgroup-tools"
      ],
      "metadata": {
        "id": "zcSmxJZ9vQI-"
      },
      "execution_count": null,
      "outputs": []
    },
    {
      "cell_type": "code",
      "source": [
        "!sed -i 's/#path\\.data: \\/path\\/to\\/data/path.data: \\/content\\/ES_data\\/data/g' /content/elasticsearch-8.7.0/config/elasticsearch.yml"
      ],
      "metadata": {
        "id": "kM3kpEdW9syL"
      },
      "execution_count": null,
      "outputs": []
    },
    {
      "cell_type": "code",
      "source": [
        "%%bash --bg\n",
        "\n",
        "sudo -H -u daemon elasticsearch-8.7.0/bin/elasticsearch"
      ],
      "metadata": {
        "id": "2Cf7ptXfp78c"
      },
      "execution_count": null,
      "outputs": []
    },
    {
      "cell_type": "code",
      "source": [
        "time.sleep(20)"
      ],
      "metadata": {
        "id": "UgFvZehLAKtd"
      },
      "execution_count": null,
      "outputs": []
    },
    {
      "cell_type": "markdown",
      "metadata": {
        "id": "f6qxCdypE1DD"
      },
      "source": [
        "Once the instance has been started, grep for `elasticsearch` in the processes list to confirm the availability."
      ]
    },
    {
      "cell_type": "code",
      "execution_count": null,
      "metadata": {
        "id": "48LqMJ1BEHm5"
      },
      "outputs": [],
      "source": [
        "%%bash\n",
        "\n",
        "ps -ef | grep elasticsearch"
      ]
    },
    {
      "cell_type": "code",
      "source": [
        "!sed -i 's/xpack.security.enabled: true/xpack.security.enabled: false/g' /content/elasticsearch-8.7.0/config/elasticsearch.yml"
      ],
      "metadata": {
        "id": "iPYg-oKQEeY1"
      },
      "execution_count": null,
      "outputs": []
    },
    {
      "cell_type": "code",
      "source": [
        "from subprocess import getoutput\n",
        "from IPython.display import clear_output\n",
        "import os\n",
        "import time\n",
        "\n",
        "Tunnel_type = \"bore\" #@param [\"ngrok\", \"bore\", \"cloudflare\"]\n",
        "port = \"34525\" #@param {type:\"string\"}\n",
        "\n",
        "def install_ngrok():\n",
        "  if not os.path.exists('/usr/local/lib/python3.8/dist-packages/pyngrok'):\n",
        "    !pip install pyngrok\n",
        "    clear_output()\n",
        "\n",
        "def install_bore():\n",
        "  if not os.path.exists('/usr/bin/bore'):\n",
        "    !wget https://github.com/ekzhang/bore/releases/download/v0.4.1/bore-v0.4.1-i686-unknown-linux-musl.tar.gz\n",
        "    !tar -xf bore-v0.4.1-i686-unknown-linux-musl.tar.gz\n",
        "    !rm -f bore-v0.4.1-i686-unknown-linux-musl.tar.gz\n",
        "    !cp bore /usr/bin/bore\n",
        "    !rm -rf bore\n",
        "    clear_output()\n",
        "\n",
        "def install_cloudflare():\n",
        "  if not os.path.exists('/usr/bin/cloudflared'):\n",
        "    !wget -q https://github.com/cloudflare/cloudflared/releases/latest/download/cloudflared-linux-amd64.deb && dpkg -i cloudflared-linux-amd64.deb\n",
        "    clear_output()\n",
        "\n",
        "if Tunnel_type == \"bore\":\n",
        "  install_bore()\n",
        "  use_ip = \"\"\n",
        "  if port:\n",
        "    # !curl ifconfig.me > ip.txt\n",
        "    # clear_output()\n",
        "    # ip = getoutput('cat /content/ip.txt')\n",
        "    # ip = f\"-l {ip}\"\n",
        "    !nohup bore local 9200 --to bore.pub -p $port > /content/tunnel_srv.txt 2>&1 &\n",
        "  else:\n",
        "    !nohup bore local 9200 --to bore.pub > /content/tunnel_srv.txt 2>&1 &\n",
        "  time.sleep(3)\n",
        "  !grep -o 'bore.pub:[^ ]*' /content/tunnel_srv.txt >/content/tunnel_srvr.txt\n",
        "  time.sleep(3)\n",
        "  tunnel_srv= getoutput('cat /content/tunnel_srvr.txt')\n",
        "  print('http://'+tunnel_srv)\n",
        "  # !rm /content/tunnel_srv.txt\n",
        "  !rm /content/tunnel_srvr.txt\n",
        "\n",
        "elif Tunnel_type == \"ngrok\":\n",
        "  install_ngrok()\n",
        "  from pyngrok import ngrok\n",
        "  # Terminate ngrok port\n",
        "  ngrok.kill()\n",
        "  # Set authentication (optional)\n",
        "  # Get your authentication token via https://dashboard.ngrok.com/auth\n",
        "  NGROK_AUTH_TOKEN = \"2H79LWzHBonanC1xWxoGXW6fvtY_5rD7uShKgACuSLvUwMvJA\"\n",
        "  ngrok.set_auth_token(NGROK_AUTH_TOKEN)\n",
        "  public_url = ngrok.connect(9200)\n",
        "  print(public_url)\n",
        "\n",
        "elif Tunnel_type == \"cloudflare\":\n",
        "  install_cloudflare()\n",
        "  !pkill cloudflared\n",
        "  time.sleep(4)\n",
        "  # Tunnel_link = \"& cloudflared tunnel --url http://localhost:7860\"\n",
        "  !nohup cloudflared tunnel --url http://localhost:9200 > /content/srv.txt 2>&1 &\n",
        "  time.sleep(4)\n",
        "  !grep -o 'https[^[:space:]]*\\.trycloudflare.com' /content/srv.txt >/content/srvr.txt\n",
        "  srv= getoutput('cat /content/srvr.txt')\n",
        "  print(srv)\n",
        "  time.sleep(4)\n",
        "  # !rm /content/srv.txt /content/srvr.txt"
      ],
      "metadata": {
        "cellView": "form",
        "id": "Tp57w7f6crM5"
      },
      "execution_count": null,
      "outputs": []
    },
    {
      "cell_type": "markdown",
      "source": [
        "#START elasticsearch service\n",
        "before running this cell edit config to disable security features"
      ],
      "metadata": {
        "id": "z_rYlq4r_YvM"
      }
    },
    {
      "cell_type": "code",
      "source": [
        "#@title run ES service\n",
        "import os\n",
        "from subprocess import Popen, PIPE, STDOUT\n",
        "\n",
        "\n",
        "Service_type = \"normal\" #@param [\"normal\", \"BG service\"]\n",
        "\n",
        "if Service_type == \"normal\":\n",
        "    try:\n",
        "      !sudo -H -u daemon elasticsearch-8.7.0/bin/elasticsearch\n",
        "    except:\n",
        "      clear_output()\n",
        "      !sudo -H -u daemon elasticsearch-8.7.0/bin/elasticsearch\n",
        "    finally:\n",
        "      clear_output()\n",
        "      print(\"try running this cell again\")\n",
        "elif Service_type == \"BG service\":\n",
        "    try:\n",
        "      # !sudo -H -u daemon elasticsearch-8.7.0/bin/elasticsearch\n",
        "      es_server = Popen(['elasticsearch-8.7.0/bin/elasticsearch'], \n",
        "                      stdout=PIPE, stderr=STDOUT,\n",
        "                      preexec_fn=lambda: os.setuid(1)  # as daemon\n",
        "                    )\n",
        "    except:\n",
        "      clear_output()\n",
        "      # !sudo -H -u daemon elasticsearch-8.7.0/bin/elasticsearch\n",
        "      es_server = Popen(['elasticsearch-8.7.0/bin/elasticsearch'], \n",
        "                      stdout=PIPE, stderr=STDOUT,\n",
        "                      preexec_fn=lambda: os.setuid(1)  # as daemon\n",
        "                    )\n",
        "    finally:\n",
        "      clear_output()"
      ],
      "metadata": {
        "id": "N1FUc1s4gsZR",
        "cellView": "form"
      },
      "execution_count": null,
      "outputs": []
    },
    {
      "cell_type": "code",
      "source": [
        "!ps -ef | grep elasticsearch"
      ],
      "metadata": {
        "id": "7A1y4hwt9yVw"
      },
      "execution_count": null,
      "outputs": []
    },
    {
      "cell_type": "markdown",
      "source": [
        "##extra config"
      ],
      "metadata": {
        "id": "5KYtpRgf-jP6"
      }
    },
    {
      "cell_type": "markdown",
      "source": [
        "####postgres"
      ],
      "metadata": {
        "id": "mteMbcfjsVo1"
      }
    },
    {
      "cell_type": "code",
      "source": [
        "# Install postgresql server\n",
        "!sudo apt-get -y -qq update\n",
        "!sudo apt-get -y -qq install postgresql\n",
        "!sudo service postgresql.service start"
      ],
      "metadata": {
        "id": "vZy4_V1KsYnA"
      },
      "execution_count": null,
      "outputs": []
    },
    {
      "cell_type": "code",
      "source": [
        "%env DATABASE_NAME=DB\n",
        "%env PG_HOST=localhost\n",
        "%env PG_PORT=5432\n",
        "%env PG_USER=postgres\n",
        "%env PG_PASS=postgres\n",
        "\n",
        "# Setup a password `postgres` for username `postgres`\n",
        "!sudo -u postgres psql -U postgres -c \"ALTER USER postgres PASSWORD 'postgres';\"\n",
        "\n",
        "# Setup a database with name `tfio_demo` to be used\n",
        "!sudo -u postgres psql -U postgres -c 'DROP DATABASE IF EXISTS tfio_demo;'\n",
        "!sudo -u postgres psql -U postgres -c 'CREATE DATABASE grocery;'"
      ],
      "metadata": {
        "id": "d-w4QRvv50gw"
      },
      "execution_count": null,
      "outputs": []
    },
    {
      "cell_type": "code",
      "source": [],
      "metadata": {
        "id": "7YOOzbCaqhcW"
      },
      "execution_count": null,
      "outputs": []
    },
    {
      "cell_type": "code",
      "source": [
        "from subprocess import getoutput\n",
        "from IPython.display import clear_output\n",
        "import os\n",
        "import time\n",
        "\n",
        "Tunnel_type = \"bore\" #@param [\"ngrok\", \"bore\", \"cloudflare\"]\n",
        "port = \"34535\" #@param {type:\"string\"}\n",
        "\n",
        "def install_ngrok():\n",
        "  if not os.path.exists('/usr/local/lib/python3.8/dist-packages/pyngrok'):\n",
        "    !pip install pyngrok\n",
        "    clear_output()\n",
        "\n",
        "def install_bore():\n",
        "  if not os.path.exists('/usr/bin/bore'):\n",
        "    !wget https://github.com/ekzhang/bore/releases/download/v0.4.1/bore-v0.4.1-i686-unknown-linux-musl.tar.gz\n",
        "    !tar -xf bore-v0.4.1-i686-unknown-linux-musl.tar.gz\n",
        "    !rm -f bore-v0.4.1-i686-unknown-linux-musl.tar.gz\n",
        "    !cp bore /usr/bin/bore\n",
        "    !rm -rf bore\n",
        "    clear_output()\n",
        "\n",
        "def install_cloudflare():\n",
        "  if not os.path.exists('/usr/bin/cloudflared'):\n",
        "    !wget -q https://github.com/cloudflare/cloudflared/releases/latest/download/cloudflared-linux-amd64.deb && dpkg -i cloudflared-linux-amd64.deb\n",
        "    clear_output()\n",
        "\n",
        "if Tunnel_type == \"bore\":\n",
        "  install_bore()\n",
        "  use_ip = \"\"\n",
        "  if port:\n",
        "    # !curl ifconfig.me > ip.txt\n",
        "    # clear_output()\n",
        "    # ip = getoutput('cat /content/ip.txt')\n",
        "    # ip = f\"-l {ip}\"\n",
        "    !nohup bore local 5432 --to bore.pub -p $port > /content/tunnel_srv.txt 2>&1 &\n",
        "  else:\n",
        "    !nohup bore local 5432 --to bore.pub > /content/tunnel_srv.txt 2>&1 &\n",
        "  time.sleep(3)\n",
        "  !grep -o 'bore.pub:[^ ]*' /content/tunnel_srv.txt >/content/tunnel_srvr.txt\n",
        "  time.sleep(3)\n",
        "  tunnel_srv= getoutput('cat /content/tunnel_srvr.txt')\n",
        "  print('http://'+tunnel_srv)\n",
        "  # !rm /content/tunnel_srv.txt\n",
        "  !rm /content/tunnel_srvr.txt\n",
        "\n",
        "elif Tunnel_type == \"ngrok\":\n",
        "  install_ngrok()\n",
        "  from pyngrok import ngrok\n",
        "  # Terminate ngrok port\n",
        "  ngrok.kill()\n",
        "  # Set authentication (optional)\n",
        "  # Get your authentication token via https://dashboard.ngrok.com/auth\n",
        "  NGROK_AUTH_TOKEN = \"2H79LWzHBonanC1xWxoGXW6fvtY_5rD7uShKgACuSLvUwMvJA\"\n",
        "  ngrok.set_auth_token(NGROK_AUTH_TOKEN)\n",
        "  public_url = ngrok.connect(5432)\n",
        "  print(public_url)\n",
        "\n",
        "elif Tunnel_type == \"cloudflare\":\n",
        "  install_cloudflare()\n",
        "  !pkill cloudflared\n",
        "  time.sleep(4)\n",
        "  # Tunnel_link = \"& cloudflared tunnel --url http://localhost:7860\"\n",
        "  !nohup cloudflared tunnel --url http://localhost:5432 > /content/srv.txt 2>&1 &\n",
        "  time.sleep(4)\n",
        "  !grep -o 'https[^[:space:]]*\\.trycloudflare.com' /content/srv.txt >/content/srvr.txt\n",
        "  srv= getoutput('cat /content/srvr.txt')\n",
        "  print(srv)\n",
        "  time.sleep(4)\n",
        "  # !rm /content/srv.txt /content/srvr.txt"
      ],
      "metadata": {
        "cellView": "form",
        "id": "5SFoddH_6YQL"
      },
      "execution_count": null,
      "outputs": []
    },
    {
      "cell_type": "code",
      "source": [
        "!sed -i 's/#wal_level = replica/wal_level = logical/g' /etc/postgresql/12/main/postgresql.conf"
      ],
      "metadata": {
        "id": "0MBRzfcM95wq"
      },
      "execution_count": null,
      "outputs": []
    },
    {
      "cell_type": "code",
      "source": [
        "!sudo service postgresql start"
      ],
      "metadata": {
        "id": "_cphNQGt9b2L"
      },
      "execution_count": null,
      "outputs": []
    },
    {
      "cell_type": "code",
      "source": [
        "!ps -ef | grep postgresql"
      ],
      "metadata": {
        "id": "g4gQN2fjHL4J"
      },
      "execution_count": null,
      "outputs": []
    },
    {
      "cell_type": "markdown",
      "source": [
        "####redis"
      ],
      "metadata": {
        "id": "nHRmW_3nJTGG"
      }
    },
    {
      "cell_type": "code",
      "source": [
        "!sudo apt install lsb-release"
      ],
      "metadata": {
        "id": "Bbyl6N2EHftG"
      },
      "execution_count": null,
      "outputs": []
    },
    {
      "cell_type": "code",
      "source": [
        "!curl -fsSL https://packages.redis.io/gpg | sudo gpg --dearmor -o /usr/share/keyrings/redis-archive-keyring.gpg\n",
        "\n",
        "!echo \"deb [signed-by=/usr/share/keyrings/redis-archive-keyring.gpg] https://packages.redis.io/deb $(lsb_release -cs) main\" | sudo tee /etc/apt/sources.list.d/redis.list\n",
        "\n",
        "!sudo apt-get update\n",
        "!sudo apt-get install redis"
      ],
      "metadata": {
        "id": "XgqNR-kGHp6z"
      },
      "execution_count": null,
      "outputs": []
    },
    {
      "cell_type": "code",
      "source": [
        "!sudo service redis-server start"
      ],
      "metadata": {
        "id": "LAfSc2eJHxIR"
      },
      "execution_count": null,
      "outputs": []
    },
    {
      "cell_type": "code",
      "source": [],
      "metadata": {
        "id": "ILvZ_JE7-nd3"
      },
      "execution_count": null,
      "outputs": []
    },
    {
      "cell_type": "markdown",
      "source": [
        "#exp"
      ],
      "metadata": {
        "id": "9uZLDa8wMREG"
      }
    },
    {
      "cell_type": "code",
      "execution_count": null,
      "metadata": {
        "id": "ILyohKWQ_XQS"
      },
      "outputs": [],
      "source": [
        "!curl -X GET \"localhost:9200\""
      ]
    },
    {
      "cell_type": "code",
      "source": [
        "!/content/elasticsearch-8.7.0/bin/elasticsearch-setup-passwords auto -url \"https://localhost:9200\""
      ],
      "metadata": {
        "id": "VD5zGTsNxqT7"
      },
      "execution_count": null,
      "outputs": []
    },
    {
      "cell_type": "code",
      "source": [
        "!curl --cacert /content/elasticsearch-8.7.0/config/certs/http_ca.crt -u elastic -H ' Content-Type: application/json' -XGET https://localhost:9200/?pretty=true"
      ],
      "metadata": {
        "id": "hi75HaADx3Ii"
      },
      "execution_count": null,
      "outputs": []
    },
    {
      "cell_type": "code",
      "source": [
        "!curl --cacert /content/elasticsearch-8.7.0/config/certs/http_ca.crt -u elastic -H 'Content-Type: application/json' -XPUT https://localhost:9200/playground -d ' { \"mappings\": { \"properties\": { \"name\" : { \"type\": \"keyword\" } } } }'"
      ],
      "metadata": {
        "id": "FxH3cHyHx_WT"
      },
      "execution_count": null,
      "outputs": []
    },
    {
      "cell_type": "code",
      "source": [
        "!curl --cacert /content/elasticsearch-8.7.0/config/certs/http_ca.crt -u elastic -H 'Content-Type: application/json' -XGET https://localhost:9200/playground/_mapping?pretty = true"
      ],
      "metadata": {
        "id": "PA-kfGmEyB1S"
      },
      "execution_count": null,
      "outputs": []
    },
    {
      "cell_type": "code",
      "source": [
        "!curl --cacert /content/elasticsearch-8.7.0/config/certs/http_ca.crt -u elastic -H 'Content - Type: application/json' -XPOST https://localhost:9200/playground/_doc -d '{\"name\": \"HOGE\"}'"
      ],
      "metadata": {
        "id": "WAxKsCkRyFqf"
      },
      "execution_count": null,
      "outputs": []
    },
    {
      "cell_type": "code",
      "source": [],
      "metadata": {
        "id": "55P8mjAknIS4"
      },
      "execution_count": null,
      "outputs": []
    }
  ]
}